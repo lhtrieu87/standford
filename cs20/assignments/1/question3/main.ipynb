{
 "cells": [
  {
   "cell_type": "code",
   "execution_count": 1,
   "metadata": {},
   "outputs": [],
   "source": [
    "import tensorflow as tf\n",
    "import zipfile\n",
    "import collections\n",
    "import numpy as np\n",
    "import os\n",
    "from tensorflow.contrib.tensorboard.plugins import projector\n",
    "from tempfile import gettempdir\n",
    "from six.moves import urllib"
   ]
  },
  {
   "cell_type": "code",
   "execution_count": 2,
   "metadata": {},
   "outputs": [],
   "source": [
    "LOG_DIR = 'processed'\n",
    "VOCAB_FILE = 'vocab.tsv'\n",
    "MODEL_NAME = 'model.ckpt'"
   ]
  },
  {
   "cell_type": "code",
   "execution_count": 3,
   "metadata": {},
   "outputs": [
    {
     "name": "stdout",
     "output_type": "stream",
     "text": [
      "Found and verified text8.zip\n"
     ]
    }
   ],
   "source": [
    "url = 'http://mattmahoney.net/dc/'\n",
    "\n",
    "def maybe_download(filename, expected_bytes):\n",
    "    \"\"\"Download a file if not present, and make sure it's the right size.\"\"\"\n",
    "    local_filename = os.path.join(gettempdir(), filename)\n",
    "    if not os.path.exists(local_filename):\n",
    "        local_filename, _ = urllib.request.urlretrieve(url + filename,\n",
    "                                                   local_filename)\n",
    "    statinfo = os.stat(local_filename)\n",
    "    if statinfo.st_size == expected_bytes:\n",
    "        print('Found and verified', filename)\n",
    "    else:\n",
    "        print(statinfo.st_size)\n",
    "        raise Exception('Failed to verify ' + local_filename +\n",
    "                    '. Can you get to it with a browser?')\n",
    "    return local_filename\n",
    "\n",
    "\n",
    "filename = maybe_download('text8.zip', 31344016)"
   ]
  },
  {
   "cell_type": "code",
   "execution_count": 8,
   "metadata": {},
   "outputs": [
    {
     "name": "stdout",
     "output_type": "stream",
     "text": [
      "Data size 17005207\n"
     ]
    }
   ],
   "source": [
    "def read_data(filename):\n",
    "    with zipfile.ZipFile(filename) as f:\n",
    "        data = tf.compat.as_str(f.read(f.namelist()[0])).split()\n",
    "    return data\n",
    "\n",
    "words = read_data(os.path.join(gettempdir(), 'text8.zip'))\n",
    "print('Data size', len(words))"
   ]
  },
  {
   "cell_type": "code",
   "execution_count": 7,
   "metadata": {},
   "outputs": [],
   "source": [
    "vocabulary_size = 10000\n",
    "embed_size = 300\n",
    "window_size = 5"
   ]
  },
  {
   "cell_type": "code",
   "execution_count": 9,
   "metadata": {},
   "outputs": [],
   "source": [
    "def build_vocabulary(words, n_words):\n",
    "    print('Building vocabulary...')\n",
    "    vocab = ['UNK']\n",
    "    vocab.extend([word for word, _ in collections.Counter(words).most_common(n_words - 1)])\n",
    "    if not os.path.exists(LOG_DIR):\n",
    "        os.makedirs(LOG_DIR)\n",
    "    with open(os.path.join(LOG_DIR, VOCAB_FILE), 'w') as f:\n",
    "        f.write('\\n'.join(vocab))\n",
    "    return {word: i for i, word in enumerate(vocab)}\n",
    "\n",
    "def words_to_indicies(words, index):\n",
    "    print('Converting words to indicies...')\n",
    "    return [index[w] if w in index else 0 for w in words]\n",
    "\n",
    "def get_pairs(words, window_size):\n",
    "    print('Getting word pairs...')\n",
    "    for i, center in enumerate(words):\n",
    "        targets = words[max(0, i - window_size): i]\n",
    "        targets.extend(words[i + 1: i + window_size + 1])\n",
    "        for t in targets:\n",
    "            yield center, t"
   ]
  },
  {
   "cell_type": "code",
   "execution_count": 10,
   "metadata": {},
   "outputs": [
    {
     "name": "stdout",
     "output_type": "stream",
     "text": [
      "Building vocabulary...\n",
      "Converting words to indicies...\n",
      "Building co-occurence matrix...\n",
      "Getting word pairs...\n"
     ]
    }
   ],
   "source": [
    "index = build_vocabulary(words, vocabulary_size)\n",
    "index_words = words_to_indicies(words, index)\n",
    "del words\n",
    "\n",
    "print('Building co-occurence matrix...')\n",
    "occurence = np.zeros([vocabulary_size, vocabulary_size])\n",
    "for center, target in get_pairs(index_words, window_size):\n",
    "    occurence[center][target] += 1"
   ]
  },
  {
   "cell_type": "code",
   "execution_count": 11,
   "metadata": {},
   "outputs": [],
   "source": [
    "np.savetxt(os.path.join(LOG_DIR, \"occurence_mat\"), occurence)"
   ]
  },
  {
   "cell_type": "code",
   "execution_count": 5,
   "metadata": {},
   "outputs": [],
   "source": [
    "occurence = np.loadtxt(os.path.join(LOG_DIR, \"occurence_mat\"))"
   ]
  },
  {
   "cell_type": "code",
   "execution_count": 12,
   "metadata": {},
   "outputs": [
    {
     "name": "stdout",
     "output_type": "stream",
     "text": [
      "Building and running graph...\n"
     ]
    }
   ],
   "source": [
    "print('Building and running graph...')\n",
    "\n",
    "occurence_var = tf.placeholder(tf.float32)\n",
    "mean_occurence = tf.reduce_mean(occurence_var, axis=1, keepdims=True)\n",
    "mean_centered_occurence = tf.subtract(occurence_var, mean_occurence)\n",
    "svd = tf.svd(mean_centered_occurence)\n",
    "\n",
    "with tf.Session() as sess:\n",
    "    sess.run(tf.global_variables_initializer())\n",
    "    s, u, _ = sess.run(svd, feed_dict={occurence_var: occurence})\n",
    "\n",
    "    embedding_var = tf.Variable(np.dot(u, np.diag(s)[:, :embed_size]), name='embedding')\n",
    "    sess.run(embedding_var.initializer)\n",
    "\n",
    "    config = projector.ProjectorConfig()\n",
    "    summary_writer = tf.summary.FileWriter(LOG_DIR)\n",
    "\n",
    "    embedding = config.embeddings.add()\n",
    "    embedding.tensor_name = embedding_var.name\n",
    "    embedding.metadata_path = VOCAB_FILE\n",
    "\n",
    "    projector.visualize_embeddings(summary_writer, config)\n",
    "    saver_embed = tf.train.Saver([embedding_var])\n",
    "    saver_embed.save(sess, os.path.join(LOG_DIR, MODEL_NAME))\n"
   ]
  },
  {
   "cell_type": "code",
   "execution_count": null,
   "metadata": {},
   "outputs": [],
   "source": []
  }
 ],
 "metadata": {
  "kernelspec": {
   "display_name": "Python 3",
   "language": "python",
   "name": "python3"
  },
  "language_info": {
   "codemirror_mode": {
    "name": "ipython",
    "version": 3
   },
   "file_extension": ".py",
   "mimetype": "text/x-python",
   "name": "python",
   "nbconvert_exporter": "python",
   "pygments_lexer": "ipython3",
   "version": "3.5.2"
  }
 },
 "nbformat": 4,
 "nbformat_minor": 2
}
