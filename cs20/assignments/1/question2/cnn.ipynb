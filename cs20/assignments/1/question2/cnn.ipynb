{
 "cells": [
  {
   "cell_type": "code",
   "execution_count": 74,
   "metadata": {},
   "outputs": [],
   "source": [
    "import tensorflow as tf\n",
    "import numpy as np\n",
    "import math\n",
    "import time"
   ]
  },
  {
   "cell_type": "code",
   "execution_count": 68,
   "metadata": {},
   "outputs": [],
   "source": [
    "mnist = tf.keras.datasets.mnist\n",
    "(x_train, y_train), (x_test, y_test) = mnist.load_data()\n",
    "x_train, x_test = x_train / 255.0, x_test / 255.0\n",
    "\n",
    "x_train = x_train.astype(np.float32)\n",
    "y_train = y_train.astype(np.int32)\n",
    "\n",
    "x_test = x_test.astype(np.float32)\n",
    "y_test = y_test.astype(np.int32)"
   ]
  },
  {
   "cell_type": "code",
   "execution_count": 54,
   "metadata": {},
   "outputs": [],
   "source": [
    "# Input(s):\n",
    "# shape = [kernel_width, kernel_height, #channels, #filters]\n",
    "# Output(s):\n",
    "# weight with the same shape as \"shape\"\n",
    "def conv_weight_variable(shape):\n",
    "    initial = np.zeros([shape[3], shape[0] * shape[1] * shape[2]])\n",
    "    n = shape[0] * shape[1] * shape[2]\n",
    "    for i in range(0, shape[3]):\n",
    "        initial[i] = np.random.randn(n) * math.sqrt(2.0 / n)\n",
    "    initial = np.transpose(initial.reshape(shape[3], shape[0], shape[1], shape[2]), (1, 2, 3, 0))\n",
    "    return tf.Variable(initial, dtype=tf.float32)"
   ]
  },
  {
   "cell_type": "code",
   "execution_count": 55,
   "metadata": {},
   "outputs": [],
   "source": [
    "def bias_variable(shape):\n",
    "    initial = tf.constant(0., shape=shape)\n",
    "    return tf.Variable(initial, dtype=tf.float32)"
   ]
  },
  {
   "cell_type": "code",
   "execution_count": 47,
   "metadata": {},
   "outputs": [],
   "source": [
    "def conv2d(X, W):\n",
    "    return tf.nn.conv2d(X, W, strides=[1, 1, 1, 1], padding='SAME')\n",
    "\n",
    "def max_pool(X):\n",
    "    return tf.nn.max_pool(X, ksize=[1, 2, 2, 1],\n",
    "                          strides=[1, 2, 2, 1], padding='SAME')"
   ]
  },
  {
   "cell_type": "code",
   "execution_count": 56,
   "metadata": {},
   "outputs": [],
   "source": [
    "# Input(s):\n",
    "# shape = [#in_features, #out_features]\n",
    "def fc_weight_variable(shape):\n",
    "    initial = np.zeros([shape[1], shape[0]])\n",
    "    n = shape[0]\n",
    "    for i in range(0, shape[1]):\n",
    "        initial[i] = np.random.randn(n) * math.sqrt(2.0 / n)\n",
    "    initial = np.transpose(initial, (1, 0))\n",
    "    return tf.Variable(initial, dtype=tf.float32)"
   ]
  },
  {
   "cell_type": "code",
   "execution_count": 57,
   "metadata": {},
   "outputs": [],
   "source": [
    "def cnn(X):\n",
    "    X = tf.reshape(X, [-1, 28, 28, 1])\n",
    "    \n",
    "    W_conv1 = conv_weight_variable([5, 5, 1, 32])\n",
    "    b_conv1 = bias_variable([32])\n",
    "    h_conv1 = tf.nn.relu(conv2d(X, W_conv1) + b_conv1)\n",
    "    h_pool1 = max_pool(h_conv1)\n",
    "    \n",
    "    # Increase #filters relatively to the previous layer\n",
    "    # to capture more higher abstract information\n",
    "    W_conv2 = conv_weight_variable([5, 5, 32, 64])\n",
    "    b_conv2 = bias_variable([64])\n",
    "    h_conv2 = tf.nn.relu(conv2d(h_pool1, W_conv2) + b_conv2)\n",
    "    h_pool2 = max_pool(h_conv2)\n",
    "    \n",
    "    # Width & height are reduced 4 times due to max_pool two times.\n",
    "    W_fc1 = fc_weight_variable([7 * 7 * 64, 1024])\n",
    "    b_fc1 = bias_variable([1024])\n",
    "    h_pool2 = tf.reshape(h_pool2, [-1, 7 * 7 * 64])\n",
    "    h_fc1 = tf.nn.relu(tf.matmul(h_pool2, W_fc1) + b_fc1)\n",
    "    \n",
    "    # 10 classes: 0-9\n",
    "    W_fc2 = fc_weight_variable([1024, 10])\n",
    "    b_fc2 = bias_variable([10])\n",
    "    logits = tf.matmul(h_fc1, W_fc2) + b_fc2\n",
    "    return logits"
   ]
  },
  {
   "cell_type": "code",
   "execution_count": 97,
   "metadata": {},
   "outputs": [],
   "source": [
    "learning_rate = 0.001\n",
    "batch_size = 256\n",
    "n_epochs = 10"
   ]
  },
  {
   "cell_type": "code",
   "execution_count": 69,
   "metadata": {},
   "outputs": [],
   "source": [
    "train_dataset = tf.data.Dataset.from_tensor_slices((x_train, y_train)).shuffle(10000).batch(batch_size)\n",
    "test_dataset = tf.data.Dataset.from_tensor_slices((x_test, y_test)).batch(batch_size)\n",
    "\n",
    "iterator = tf.data.Iterator.from_structure(train_dataset.output_types, train_dataset.output_shapes)\n",
    "\n",
    "X, Y = iterator.get_next()\n",
    "\n",
    "train_init = iterator.make_initializer(train_dataset)\n",
    "test_init = iterator.make_initializer(test_dataset)"
   ]
  },
  {
   "cell_type": "code",
   "execution_count": 70,
   "metadata": {},
   "outputs": [],
   "source": [
    "logits = cnn(X)\n",
    "\n",
    "entropy = tf.nn.sparse_softmax_cross_entropy_with_logits(logits=logits, labels=Y)\n",
    "loss = tf.reduce_mean(entropy)\n",
    "\n",
    "optimizer = tf.train.AdamOptimizer(learning_rate).minimize(loss)"
   ]
  },
  {
   "cell_type": "code",
   "execution_count": 98,
   "metadata": {},
   "outputs": [
    {
     "name": "stdout",
     "output_type": "stream",
     "text": [
      "Average loss epoch 0: 0.22743989607223716\n",
      "Average loss epoch 1: 0.041843438457347386\n",
      "Average loss epoch 2: 0.029003902237949908\n",
      "Average loss epoch 3: 0.0194148165676305\n",
      "Average loss epoch 4: 0.012681601892432405\n",
      "Average loss epoch 5: 0.010173060589606285\n",
      "Average loss epoch 6: 0.008806036743827952\n",
      "Average loss epoch 7: 0.0072059630713342\n",
      "Average loss epoch 8: 0.0055047362426489405\n",
      "Average loss epoch 9: 0.004686543654315756\n",
      "Total time: 38.560025691986084 seconds\n",
      "Optimization Finished!\n",
      "Accuracy 0.9906\n"
     ]
    }
   ],
   "source": [
    "with tf.Session(config=tf.ConfigProto(log_device_placement=True)) as sess:\n",
    "#     writer = tf.summary.FileWriter('./graphs/mnist', sess.graph)\n",
    "    start_time = time.time()\n",
    "    \n",
    "    sess.run(tf.global_variables_initializer())\n",
    "    n_batches = int(x_train.shape[0] / batch_size)\n",
    "    for i in range(n_epochs):\n",
    "        sess.run(train_init)\n",
    "        total_loss = 0\n",
    "        \n",
    "        try:\n",
    "            while True:\n",
    "                _, loss_batch = sess.run([optimizer, loss])\n",
    "                total_loss += loss_batch\n",
    "        except tf.errors.OutOfRangeError:\n",
    "            pass\n",
    "            \n",
    "        print('Average loss epoch {0}: {1}'.format(i, total_loss / n_batches))\n",
    "        \n",
    "    print('Total time: {0} seconds'.format(time.time() - start_time))\n",
    "    print('Optimization Finished!')\n",
    "            \n",
    "    # test the model\n",
    "    preds = tf.nn.softmax(logits)\n",
    "    correct_preds = tf.equal(tf.cast(tf.argmax(preds, 1), tf.int32), Y)\n",
    "    accuracy = tf.reduce_sum(tf.cast(correct_preds, tf.float32)) # need numpy.count_nonzero(boolarr) :(\n",
    "    \n",
    "    n_batches = int(x_test.shape[0] / batch_size)\n",
    "    total_correct_preds = 0\n",
    "    \n",
    "    sess.run(test_init)\n",
    "    try:\n",
    "        while True:\n",
    "            accuracy_batch = sess.run(accuracy) \n",
    "            total_correct_preds += accuracy_batch\n",
    "    except tf.errors.OutOfRangeError:\n",
    "        pass\n",
    "    \n",
    "    print('Accuracy {0}'.format(total_correct_preds / x_test.shape[0]))\n",
    "\n",
    "#     writer.close()"
   ]
  },
  {
   "cell_type": "code",
   "execution_count": null,
   "metadata": {},
   "outputs": [],
   "source": []
  }
 ],
 "metadata": {
  "kernelspec": {
   "display_name": "Python 3",
   "language": "python",
   "name": "python3"
  },
  "language_info": {
   "codemirror_mode": {
    "name": "ipython",
    "version": 3
   },
   "file_extension": ".py",
   "mimetype": "text/x-python",
   "name": "python",
   "nbconvert_exporter": "python",
   "pygments_lexer": "ipython3",
   "version": "3.5.2"
  }
 },
 "nbformat": 4,
 "nbformat_minor": 2
}
